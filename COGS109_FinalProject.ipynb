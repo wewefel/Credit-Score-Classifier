{
 "cells": [
  {
   "cell_type": "code",
   "execution_count": 23,
   "id": "e530d61c",
   "metadata": {},
   "outputs": [],
   "source": [
    "import pandas as pd\n",
    "from sklearn.model_selection import train_test_split, GridSearchCV\n",
    "from sklearn.discriminant_analysis import LinearDiscriminantAnalysis\n",
    "from sklearn.metrics import classification_report\n",
    "from sklearn.preprocessing import LabelEncoder\n",
    "from sklearn.pipeline import Pipeline\n",
    "from sklearn.preprocessing import StandardScaler\n",
    "from sklearn.metrics import accuracy_score, classification_report, confusion_matrix\n",
    "from sklearn.metrics import PrecisionRecallDisplay\n",
    "from sklearn.pipeline import make_pipeline\n",
    "import matplotlib.pyplot as plt\n",
    "import seaborn as sns\n",
    "sns.set_style(\"darkgrid\")\n",
    "sns.set_context(\"notebook\")\n",
    "import pylab as pl\n",
    "import numpy as np"
   ]
  },
  {
   "cell_type": "code",
   "execution_count": 2,
   "id": "37f38b4e",
   "metadata": {},
   "outputs": [],
   "source": [
    "df = pd.read_csv('Credit Score Classification Dataset.csv')"
   ]
  },
  {
   "cell_type": "code",
   "execution_count": 3,
   "id": "6ecb4180",
   "metadata": {},
   "outputs": [
    {
     "data": {
      "text/html": [
       "<div>\n",
       "<style scoped>\n",
       "    .dataframe tbody tr th:only-of-type {\n",
       "        vertical-align: middle;\n",
       "    }\n",
       "\n",
       "    .dataframe tbody tr th {\n",
       "        vertical-align: top;\n",
       "    }\n",
       "\n",
       "    .dataframe thead th {\n",
       "        text-align: right;\n",
       "    }\n",
       "</style>\n",
       "<table border=\"1\" class=\"dataframe\">\n",
       "  <thead>\n",
       "    <tr style=\"text-align: right;\">\n",
       "      <th></th>\n",
       "      <th>Age</th>\n",
       "      <th>Gender</th>\n",
       "      <th>Income</th>\n",
       "      <th>Education</th>\n",
       "      <th>Marital Status</th>\n",
       "      <th>Number of Children</th>\n",
       "      <th>Home Ownership</th>\n",
       "      <th>Credit Score</th>\n",
       "    </tr>\n",
       "  </thead>\n",
       "  <tbody>\n",
       "    <tr>\n",
       "      <th>0</th>\n",
       "      <td>25</td>\n",
       "      <td>Female</td>\n",
       "      <td>50000</td>\n",
       "      <td>Bachelor's Degree</td>\n",
       "      <td>Single</td>\n",
       "      <td>0</td>\n",
       "      <td>Rented</td>\n",
       "      <td>High</td>\n",
       "    </tr>\n",
       "    <tr>\n",
       "      <th>1</th>\n",
       "      <td>30</td>\n",
       "      <td>Male</td>\n",
       "      <td>100000</td>\n",
       "      <td>Master's Degree</td>\n",
       "      <td>Married</td>\n",
       "      <td>2</td>\n",
       "      <td>Owned</td>\n",
       "      <td>High</td>\n",
       "    </tr>\n",
       "    <tr>\n",
       "      <th>2</th>\n",
       "      <td>35</td>\n",
       "      <td>Female</td>\n",
       "      <td>75000</td>\n",
       "      <td>Doctorate</td>\n",
       "      <td>Married</td>\n",
       "      <td>1</td>\n",
       "      <td>Owned</td>\n",
       "      <td>High</td>\n",
       "    </tr>\n",
       "    <tr>\n",
       "      <th>3</th>\n",
       "      <td>40</td>\n",
       "      <td>Male</td>\n",
       "      <td>125000</td>\n",
       "      <td>High School Diploma</td>\n",
       "      <td>Single</td>\n",
       "      <td>0</td>\n",
       "      <td>Owned</td>\n",
       "      <td>High</td>\n",
       "    </tr>\n",
       "    <tr>\n",
       "      <th>4</th>\n",
       "      <td>45</td>\n",
       "      <td>Female</td>\n",
       "      <td>100000</td>\n",
       "      <td>Bachelor's Degree</td>\n",
       "      <td>Married</td>\n",
       "      <td>3</td>\n",
       "      <td>Owned</td>\n",
       "      <td>High</td>\n",
       "    </tr>\n",
       "  </tbody>\n",
       "</table>\n",
       "</div>"
      ],
      "text/plain": [
       "   Age  Gender  Income            Education Marital Status  \\\n",
       "0   25  Female   50000    Bachelor's Degree         Single   \n",
       "1   30    Male  100000      Master's Degree        Married   \n",
       "2   35  Female   75000            Doctorate        Married   \n",
       "3   40    Male  125000  High School Diploma         Single   \n",
       "4   45  Female  100000    Bachelor's Degree        Married   \n",
       "\n",
       "   Number of Children Home Ownership Credit Score  \n",
       "0                   0         Rented         High  \n",
       "1                   2          Owned         High  \n",
       "2                   1          Owned         High  \n",
       "3                   0          Owned         High  \n",
       "4                   3          Owned         High  "
      ]
     },
     "execution_count": 3,
     "metadata": {},
     "output_type": "execute_result"
    }
   ],
   "source": [
    "df.head()"
   ]
  },
  {
   "cell_type": "code",
   "execution_count": 4,
   "id": "3cb8fd6f",
   "metadata": {},
   "outputs": [
    {
     "data": {
      "text/html": [
       "<div>\n",
       "<style scoped>\n",
       "    .dataframe tbody tr th:only-of-type {\n",
       "        vertical-align: middle;\n",
       "    }\n",
       "\n",
       "    .dataframe tbody tr th {\n",
       "        vertical-align: top;\n",
       "    }\n",
       "\n",
       "    .dataframe thead th {\n",
       "        text-align: right;\n",
       "    }\n",
       "</style>\n",
       "<table border=\"1\" class=\"dataframe\">\n",
       "  <thead>\n",
       "    <tr style=\"text-align: right;\">\n",
       "      <th></th>\n",
       "      <th>Age</th>\n",
       "      <th>Gender</th>\n",
       "      <th>Income</th>\n",
       "      <th>Education</th>\n",
       "      <th>Marital Status</th>\n",
       "      <th>Number of Children</th>\n",
       "      <th>Home Ownership</th>\n",
       "      <th>Credit Score</th>\n",
       "    </tr>\n",
       "  </thead>\n",
       "  <tbody>\n",
       "    <tr>\n",
       "      <th>159</th>\n",
       "      <td>29</td>\n",
       "      <td>Female</td>\n",
       "      <td>27500</td>\n",
       "      <td>High School Diploma</td>\n",
       "      <td>Single</td>\n",
       "      <td>0</td>\n",
       "      <td>Rented</td>\n",
       "      <td>Low</td>\n",
       "    </tr>\n",
       "    <tr>\n",
       "      <th>160</th>\n",
       "      <td>34</td>\n",
       "      <td>Male</td>\n",
       "      <td>47500</td>\n",
       "      <td>Associate's Degree</td>\n",
       "      <td>Single</td>\n",
       "      <td>0</td>\n",
       "      <td>Rented</td>\n",
       "      <td>Average</td>\n",
       "    </tr>\n",
       "    <tr>\n",
       "      <th>161</th>\n",
       "      <td>39</td>\n",
       "      <td>Female</td>\n",
       "      <td>62500</td>\n",
       "      <td>Bachelor's Degree</td>\n",
       "      <td>Married</td>\n",
       "      <td>2</td>\n",
       "      <td>Owned</td>\n",
       "      <td>High</td>\n",
       "    </tr>\n",
       "    <tr>\n",
       "      <th>162</th>\n",
       "      <td>44</td>\n",
       "      <td>Male</td>\n",
       "      <td>87500</td>\n",
       "      <td>Master's Degree</td>\n",
       "      <td>Single</td>\n",
       "      <td>0</td>\n",
       "      <td>Owned</td>\n",
       "      <td>High</td>\n",
       "    </tr>\n",
       "    <tr>\n",
       "      <th>163</th>\n",
       "      <td>49</td>\n",
       "      <td>Female</td>\n",
       "      <td>77500</td>\n",
       "      <td>Doctorate</td>\n",
       "      <td>Married</td>\n",
       "      <td>1</td>\n",
       "      <td>Owned</td>\n",
       "      <td>High</td>\n",
       "    </tr>\n",
       "  </tbody>\n",
       "</table>\n",
       "</div>"
      ],
      "text/plain": [
       "     Age  Gender  Income            Education Marital Status  \\\n",
       "159   29  Female   27500  High School Diploma         Single   \n",
       "160   34    Male   47500   Associate's Degree         Single   \n",
       "161   39  Female   62500    Bachelor's Degree        Married   \n",
       "162   44    Male   87500      Master's Degree         Single   \n",
       "163   49  Female   77500            Doctorate        Married   \n",
       "\n",
       "     Number of Children Home Ownership Credit Score  \n",
       "159                   0         Rented          Low  \n",
       "160                   0         Rented      Average  \n",
       "161                   2          Owned         High  \n",
       "162                   0          Owned         High  \n",
       "163                   1          Owned         High  "
      ]
     },
     "execution_count": 4,
     "metadata": {},
     "output_type": "execute_result"
    }
   ],
   "source": [
    "df.tail()"
   ]
  },
  {
   "cell_type": "code",
   "execution_count": 5,
   "id": "6149d816",
   "metadata": {},
   "outputs": [
    {
     "data": {
      "text/plain": [
       "Age                   29\n",
       "Gender                 2\n",
       "Income                52\n",
       "Education              5\n",
       "Marital Status         2\n",
       "Number of Children     4\n",
       "Home Ownership         2\n",
       "Credit Score           3\n",
       "dtype: int64"
      ]
     },
     "execution_count": 5,
     "metadata": {},
     "output_type": "execute_result"
    }
   ],
   "source": [
    "df.nunique()"
   ]
  },
  {
   "cell_type": "code",
   "execution_count": 6,
   "id": "4fe78409",
   "metadata": {},
   "outputs": [
    {
     "data": {
      "text/plain": [
       "Age                    int64\n",
       "Gender                object\n",
       "Income                 int64\n",
       "Education             object\n",
       "Marital Status        object\n",
       "Number of Children     int64\n",
       "Home Ownership        object\n",
       "Credit Score          object\n",
       "dtype: object"
      ]
     },
     "execution_count": 6,
     "metadata": {},
     "output_type": "execute_result"
    }
   ],
   "source": [
    "df.dtypes"
   ]
  },
  {
   "cell_type": "code",
   "execution_count": 7,
   "id": "99957b1d",
   "metadata": {},
   "outputs": [
    {
     "name": "stdout",
     "output_type": "stream",
     "text": [
      "<class 'pandas.core.frame.DataFrame'>\n",
      "RangeIndex: 164 entries, 0 to 163\n",
      "Data columns (total 8 columns):\n",
      " #   Column              Non-Null Count  Dtype \n",
      "---  ------              --------------  ----- \n",
      " 0   Age                 164 non-null    int64 \n",
      " 1   Gender              164 non-null    object\n",
      " 2   Income              164 non-null    int64 \n",
      " 3   Education           164 non-null    object\n",
      " 4   Marital Status      164 non-null    object\n",
      " 5   Number of Children  164 non-null    int64 \n",
      " 6   Home Ownership      164 non-null    object\n",
      " 7   Credit Score        164 non-null    object\n",
      "dtypes: int64(3), object(5)\n",
      "memory usage: 10.4+ KB\n"
     ]
    }
   ],
   "source": [
    "df.info()"
   ]
  },
  {
   "cell_type": "code",
   "execution_count": 8,
   "id": "0b95f763",
   "metadata": {},
   "outputs": [
    {
     "data": {
      "text/html": [
       "<div>\n",
       "<style scoped>\n",
       "    .dataframe tbody tr th:only-of-type {\n",
       "        vertical-align: middle;\n",
       "    }\n",
       "\n",
       "    .dataframe tbody tr th {\n",
       "        vertical-align: top;\n",
       "    }\n",
       "\n",
       "    .dataframe thead th {\n",
       "        text-align: right;\n",
       "    }\n",
       "</style>\n",
       "<table border=\"1\" class=\"dataframe\">\n",
       "  <thead>\n",
       "    <tr style=\"text-align: right;\">\n",
       "      <th></th>\n",
       "      <th>count</th>\n",
       "      <th>mean</th>\n",
       "      <th>std</th>\n",
       "      <th>min</th>\n",
       "      <th>25%</th>\n",
       "      <th>50%</th>\n",
       "      <th>75%</th>\n",
       "      <th>max</th>\n",
       "    </tr>\n",
       "  </thead>\n",
       "  <tbody>\n",
       "    <tr>\n",
       "      <th>Age</th>\n",
       "      <td>164.0</td>\n",
       "      <td>37.975610</td>\n",
       "      <td>8.477289</td>\n",
       "      <td>25.0</td>\n",
       "      <td>30.75</td>\n",
       "      <td>37.0</td>\n",
       "      <td>45.0</td>\n",
       "      <td>53.0</td>\n",
       "    </tr>\n",
       "    <tr>\n",
       "      <th>Income</th>\n",
       "      <td>164.0</td>\n",
       "      <td>83765.243902</td>\n",
       "      <td>32457.306728</td>\n",
       "      <td>25000.0</td>\n",
       "      <td>57500.00</td>\n",
       "      <td>83750.0</td>\n",
       "      <td>105000.0</td>\n",
       "      <td>162500.0</td>\n",
       "    </tr>\n",
       "    <tr>\n",
       "      <th>Number of Children</th>\n",
       "      <td>164.0</td>\n",
       "      <td>0.652439</td>\n",
       "      <td>0.883346</td>\n",
       "      <td>0.0</td>\n",
       "      <td>0.00</td>\n",
       "      <td>0.0</td>\n",
       "      <td>1.0</td>\n",
       "      <td>3.0</td>\n",
       "    </tr>\n",
       "  </tbody>\n",
       "</table>\n",
       "</div>"
      ],
      "text/plain": [
       "                    count          mean           std      min       25%  \\\n",
       "Age                 164.0     37.975610      8.477289     25.0     30.75   \n",
       "Income              164.0  83765.243902  32457.306728  25000.0  57500.00   \n",
       "Number of Children  164.0      0.652439      0.883346      0.0      0.00   \n",
       "\n",
       "                        50%       75%       max  \n",
       "Age                    37.0      45.0      53.0  \n",
       "Income              83750.0  105000.0  162500.0  \n",
       "Number of Children      0.0       1.0       3.0  "
      ]
     },
     "execution_count": 8,
     "metadata": {},
     "output_type": "execute_result"
    }
   ],
   "source": [
    "df.describe().T"
   ]
  },
  {
   "cell_type": "code",
   "execution_count": 9,
   "id": "419d5280",
   "metadata": {},
   "outputs": [
    {
     "data": {
      "text/plain": [
       "Age                   False\n",
       "Gender                False\n",
       "Income                False\n",
       "Education             False\n",
       "Marital Status        False\n",
       "Number of Children    False\n",
       "Home Ownership        False\n",
       "Credit Score          False\n",
       "dtype: bool"
      ]
     },
     "execution_count": 9,
     "metadata": {},
     "output_type": "execute_result"
    }
   ],
   "source": [
    "df.isna().any()"
   ]
  },
  {
   "cell_type": "code",
   "execution_count": 10,
   "id": "e453cb5a",
   "metadata": {},
   "outputs": [],
   "source": [
    "le = LabelEncoder()"
   ]
  },
  {
   "cell_type": "code",
   "execution_count": 11,
   "id": "a80903c5",
   "metadata": {},
   "outputs": [],
   "source": [
    "cols = df.select_dtypes(include = 'object').columns.tolist()"
   ]
  },
  {
   "cell_type": "code",
   "execution_count": 12,
   "id": "62357756",
   "metadata": {},
   "outputs": [
    {
     "data": {
      "text/plain": [
       "['Gender', 'Education', 'Marital Status', 'Home Ownership', 'Credit Score']"
      ]
     },
     "execution_count": 12,
     "metadata": {},
     "output_type": "execute_result"
    }
   ],
   "source": [
    "cols"
   ]
  },
  {
   "cell_type": "code",
   "execution_count": 13,
   "id": "cd011f0a",
   "metadata": {},
   "outputs": [],
   "source": [
    "for col in cols:\n",
    "    le.fit(df[col])\n",
    "    df[col] = le.transform(df[col])"
   ]
  },
  {
   "cell_type": "markdown",
   "id": "d76923e6",
   "metadata": {},
   "source": [
    "X1 contains ALL of our predictors, including Age, Gender, Income, Education, Marital Status, Number of Children,\n",
    "and Home Ownership.  \n",
    "\n",
    "X2 contains the same predictors as X1 EXCEPT Gender."
   ]
  },
  {
   "cell_type": "code",
   "execution_count": 15,
   "id": "dfa52d96",
   "metadata": {},
   "outputs": [],
   "source": [
    "X1 = df.drop('Credit Score', axis = 1)\n",
    "X2 = X1.drop('Gender', axis = 1)\n",
    "y = df['Credit Score']"
   ]
  },
  {
   "cell_type": "code",
   "execution_count": 16,
   "id": "2ad20535",
   "metadata": {},
   "outputs": [
    {
     "name": "stdout",
     "output_type": "stream",
     "text": [
      "     Age  Gender  Income  Education  Marital Status  Number of Children  \\\n",
      "0     25       0   50000          1               1                   0   \n",
      "1     30       1  100000          4               0                   2   \n",
      "2     35       0   75000          2               0                   1   \n",
      "3     40       1  125000          3               1                   0   \n",
      "4     45       0  100000          1               0                   3   \n",
      "..   ...     ...     ...        ...             ...                 ...   \n",
      "159   29       0   27500          3               1                   0   \n",
      "160   34       1   47500          0               1                   0   \n",
      "161   39       0   62500          1               0                   2   \n",
      "162   44       1   87500          4               1                   0   \n",
      "163   49       0   77500          2               0                   1   \n",
      "\n",
      "     Home Ownership  \n",
      "0                 1  \n",
      "1                 0  \n",
      "2                 0  \n",
      "3                 0  \n",
      "4                 0  \n",
      "..              ...  \n",
      "159               1  \n",
      "160               1  \n",
      "161               0  \n",
      "162               0  \n",
      "163               0  \n",
      "\n",
      "[164 rows x 7 columns]\n",
      "     Age  Income  Education  Marital Status  Number of Children  \\\n",
      "0     25   50000          1               1                   0   \n",
      "1     30  100000          4               0                   2   \n",
      "2     35   75000          2               0                   1   \n",
      "3     40  125000          3               1                   0   \n",
      "4     45  100000          1               0                   3   \n",
      "..   ...     ...        ...             ...                 ...   \n",
      "159   29   27500          3               1                   0   \n",
      "160   34   47500          0               1                   0   \n",
      "161   39   62500          1               0                   2   \n",
      "162   44   87500          4               1                   0   \n",
      "163   49   77500          2               0                   1   \n",
      "\n",
      "     Home Ownership  \n",
      "0                 1  \n",
      "1                 0  \n",
      "2                 0  \n",
      "3                 0  \n",
      "4                 0  \n",
      "..              ...  \n",
      "159               1  \n",
      "160               1  \n",
      "161               0  \n",
      "162               0  \n",
      "163               0  \n",
      "\n",
      "[164 rows x 6 columns]\n"
     ]
    }
   ],
   "source": [
    "print(X1)\n",
    "print(X2)"
   ]
  },
  {
   "cell_type": "code",
   "execution_count": 17,
   "id": "0a276546",
   "metadata": {},
   "outputs": [],
   "source": [
    "X1_train, X1_test, y_train, y_test = train_test_split(X1, y, test_size=0.2, random_state=42, stratify=y)"
   ]
  },
  {
   "cell_type": "code",
   "execution_count": 18,
   "id": "edce4e88",
   "metadata": {},
   "outputs": [],
   "source": [
    "X2_train, X2_test = X1_train.drop(['Gender'], axis=1), X1_test.drop(['Gender'], axis=1)"
   ]
  },
  {
   "cell_type": "markdown",
   "id": "8b92e980",
   "metadata": {},
   "source": [
    "Define parameter grid for the grid search. The search compares different specified parameters for our estimator, then performs cross validation.  \n",
    "This compares three LDA solvers:  \n",
    "Singular Value Decomposition  \n",
    "Least Squares Solution  \n",
    "Eigenvalue Decomposition"
   ]
  },
  {
   "cell_type": "code",
   "execution_count": 25,
   "id": "664378a8",
   "metadata": {},
   "outputs": [],
   "source": [
    "param_grid = {\n",
    "    'lineardiscriminantanalysis__solver': ['svd', 'lsqr', 'eigen']\n",
    "}"
   ]
  },
  {
   "cell_type": "markdown",
   "id": "4d0be110",
   "metadata": {},
   "source": [
    "Search through the parameters to find the optimal solver. Then perform 5-fold cross validation."
   ]
  },
  {
   "cell_type": "code",
   "execution_count": 26,
   "id": "fedd9219",
   "metadata": {},
   "outputs": [
    {
     "data": {
      "text/plain": [
       "GridSearchCV(estimator=Pipeline(steps=[('standardscaler', StandardScaler()),\n",
       "                                       ('lineardiscriminantanalysis',\n",
       "                                        LinearDiscriminantAnalysis())]),\n",
       "             param_grid={'lineardiscriminantanalysis__solver': ['svd', 'lsqr',\n",
       "                                                                'eigen']})"
      ]
     },
     "execution_count": 26,
     "metadata": {},
     "output_type": "execute_result"
    }
   ],
   "source": [
    "lda1 = make_pipeline(StandardScaler(), LinearDiscriminantAnalysis())\n",
    "grid_search1 = GridSearchCV(lda1, param_grid=param_grid)\n",
    "grid_search1.fit(X1_train, y_train)"
   ]
  },
  {
   "cell_type": "code",
   "execution_count": 27,
   "id": "f37cd115",
   "metadata": {},
   "outputs": [],
   "source": [
    "best_lda1 = grid_search1.best_estimator_\n",
    "best_score1 = grid_search1.best_score_\n",
    "best_params1 = grid_search1.best_params_"
   ]
  },
  {
   "cell_type": "code",
   "execution_count": 28,
   "id": "97388b82",
   "metadata": {},
   "outputs": [
    {
     "name": "stdout",
     "output_type": "stream",
     "text": [
      "Optimal Model: Pipeline(steps=[('standardscaler', StandardScaler()),\n",
      "                ('lineardiscriminantanalysis', LinearDiscriminantAnalysis())])\n",
      "\n",
      "Most accurate Cross-Validation Score: 0.8937321937321938\n",
      "\n",
      "Optimal Grid Search Parameters: {'lineardiscriminantanalysis__solver': 'svd'}\n"
     ]
    }
   ],
   "source": [
    "print(\"Optimal Model:\", best_lda1)\n",
    "print(\"\")\n",
    "print(\"Most accurate Cross-Validation Score:\", best_score1)\n",
    "print(\"\")\n",
    "print(\"Optimal Grid Search Parameters:\", best_params1)"
   ]
  },
  {
   "cell_type": "markdown",
   "id": "9d47f3e3",
   "metadata": {},
   "source": [
    "Now we fit and compare the model WITHOUT the gender parameter."
   ]
  },
  {
   "cell_type": "code",
   "execution_count": 44,
   "id": "ab6e88ad",
   "metadata": {},
   "outputs": [
    {
     "data": {
      "text/plain": [
       "GridSearchCV(estimator=Pipeline(steps=[('standardscaler', StandardScaler()),\n",
       "                                       ('lineardiscriminantanalysis',\n",
       "                                        LinearDiscriminantAnalysis())]),\n",
       "             param_grid={'lineardiscriminantanalysis__solver': ['svd', 'lsqr',\n",
       "                                                                'eigen']})"
      ]
     },
     "execution_count": 44,
     "metadata": {},
     "output_type": "execute_result"
    }
   ],
   "source": [
    "lda2 = make_pipeline(StandardScaler(), LinearDiscriminantAnalysis())\n",
    "grid_search2 = GridSearchCV(lda2, param_grid=param_grid)\n",
    "grid_search2.fit(X2_train, y_train)"
   ]
  },
  {
   "cell_type": "code",
   "execution_count": 45,
   "id": "8b92db88",
   "metadata": {},
   "outputs": [],
   "source": [
    "best_lda2 = grid_search2.best_estimator_\n",
    "best_score2 = grid_search2.best_score_\n",
    "best_params2 = grid_search2.best_params_"
   ]
  },
  {
   "cell_type": "code",
   "execution_count": 46,
   "id": "1bb87f29",
   "metadata": {},
   "outputs": [
    {
     "name": "stdout",
     "output_type": "stream",
     "text": [
      "WITHOUT gender parameter:\n",
      "\n",
      "Optimal Model: Pipeline(steps=[('standardscaler', StandardScaler()),\n",
      "                ('lineardiscriminantanalysis', LinearDiscriminantAnalysis())])\n",
      "\n",
      "Most accurate Cross-Validation Score: 0.9085470085470085\n",
      "\n",
      "Optimal Grid Search Parameters: {'lineardiscriminantanalysis__solver': 'svd'}\n"
     ]
    }
   ],
   "source": [
    "print(\"WITHOUT gender parameter:\")\n",
    "print(\"\")\n",
    "print(\"Optimal Model:\", best_lda2)\n",
    "print(\"\")\n",
    "print(\"Most accurate Cross-Validation Score:\", best_score2)\n",
    "print(\"\")\n",
    "print(\"Optimal Grid Search Parameters:\", best_params2)"
   ]
  },
  {
   "cell_type": "markdown",
   "id": "963d7bc8",
   "metadata": {},
   "source": [
    "<font size = \"5\">__Evaluation Metrics__"
   ]
  },
  {
   "cell_type": "code",
   "execution_count": 32,
   "id": "9cf9e643",
   "metadata": {},
   "outputs": [],
   "source": [
    "yhat_train1, yhat_test1 = best_lda1.predict(X1_train), best_lda1.predict(X1_test)\n",
    "yhat_train2, yhat_test2 = best_lda2.predict(X2_train), best_lda2.predict(X2_test)"
   ]
  },
  {
   "cell_type": "code",
   "execution_count": 33,
   "id": "1022ffef",
   "metadata": {},
   "outputs": [],
   "source": [
    "def train_test_predictions(model, X_tr, y_tr, X_te):\n",
    "    model.fit(X_tr,y_tr)\n",
    "    return model.predict(X_tr), model.predict(X_te)\n",
    "\n",
    "def show_metrics(y_tr, y_te, yhat_tr, yhat_te, named):\n",
    "    acc_train = accuracy_score(y_tr, yhat_tr)\n",
    "    acc_test = accuracy_score(y_te, yhat_te)\n",
    "    \n",
    "    target_names = ['High', 'Medium', 'Low']\n",
    "    \n",
    "    print(f'training set accuracy (n={y_tr.shape[0]}): {acc_train:4.3f}')\n",
    "    print(f'test set accuracy (n={y_te.shape[0]}): {acc_test:4.3f}')\n",
    "    print()\n",
    "    print('classificiation report on test set performance')\n",
    "    print(classification_report(y_te, yhat_te, target_names=target_names))\n",
    "    print()\n",
    "\n",
    "    with sns.axes_style('darkgrid'):\n",
    "        cm = confusion_matrix(y_te, yhat_te)\n",
    "        print(\"Confusion matrix:\")\n",
    "        print(cm)\n",
    "        pl.matshow(cm)\n",
    "        pl.title('Confusion matrix of the %s classifier' % named)\n",
    "        pl.colorbar()\n",
    "        plt.show()"
   ]
  },
  {
   "cell_type": "code",
   "execution_count": 34,
   "id": "cc0bb075",
   "metadata": {},
   "outputs": [
    {
     "name": "stdout",
     "output_type": "stream",
     "text": [
      "training set accuracy (n=131): 0.878\n",
      "test set accuracy (n=33): 0.909\n",
      "\n",
      "classificiation report on test set performance\n",
      "              precision    recall  f1-score   support\n",
      "\n",
      "        High       1.00      0.57      0.73         7\n",
      "      Medium       0.96      1.00      0.98        23\n",
      "         Low       0.60      1.00      0.75         3\n",
      "\n",
      "    accuracy                           0.91        33\n",
      "   macro avg       0.85      0.86      0.82        33\n",
      "weighted avg       0.93      0.91      0.90        33\n",
      "\n",
      "\n",
      "Confusion matrix:\n",
      "[[ 4  1  2]\n",
      " [ 0 23  0]\n",
      " [ 0  0  3]]\n"
     ]
    },
    {
     "data": {
      "image/png": "[encoded data removed]",
      "text/plain": [
       "<Figure size 288x288 with 2 Axes>"
      ]
     },
     "metadata": {},
     "output_type": "display_data"
    }
   ],
   "source": [
    "show_metrics(y_train, y_test, yhat_train1, yhat_test1, 'first')"
   ]
  },
  {
   "cell_type": "code",
   "execution_count": 36,
   "id": "691d41e7",
   "metadata": {},
   "outputs": [
    {
     "name": "stdout",
     "output_type": "stream",
     "text": [
      "training set accuracy (n=131): 0.924\n",
      "test set accuracy (n=33): 0.970\n",
      "\n",
      "classificiation report on test set performance\n",
      "              precision    recall  f1-score   support\n",
      "\n",
      "        High       1.00      0.86      0.92         7\n",
      "      Medium       0.96      1.00      0.98        23\n",
      "         Low       1.00      1.00      1.00         3\n",
      "\n",
      "    accuracy                           0.97        33\n",
      "   macro avg       0.99      0.95      0.97        33\n",
      "weighted avg       0.97      0.97      0.97        33\n",
      "\n",
      "\n",
      "Confusion matrix:\n",
      "[[ 6  1  0]\n",
      " [ 0 23  0]\n",
      " [ 0  0  3]]\n"
     ]
    },
    {
     "data": {
      "image/png": "[encoded data removed]",
      "text/plain": [
       "<Figure size 288x288 with 2 Axes>"
      ]
     },
     "metadata": {},
     "output_type": "display_data"
    }
   ],
   "source": [
    "show_metrics(y_train, y_test, yhat_train2, yhat_test2, 'second')"
   ]
  },
  {
   "cell_type": "code",
   "execution_count": 41,
   "id": "85d23a31",
   "metadata": {},
   "outputs": [
    {
     "data": {
      "image/png": "[encoded data removed]",
      "text/plain": [
       "<Figure size 720x432 with 1 Axes>"
      ]
     },
     "metadata": {},
     "output_type": "display_data"
    }
   ],
   "source": [
    "class_labels = ['low', 'medium', 'high']\n",
    "pred_dist1 = pd.Series(yhat_test1).value_counts(normalize=True).sort_index()\n",
    "pred_dist2 = pd.Series(yhat_test2).value_counts(normalize=True).sort_index()\n",
    "real_dist = y_test.value_counts(normalize=True).sort_index()\n",
    "\n",
    "bar_width = 0.25\n",
    "index = np.arange(len(class_labels))\n",
    "\n",
    "plt.figure(figsize=(10, 6))\n",
    "plt.bar(index, pred_dist1, width=bar_width, label='With Gender')\n",
    "plt.bar(index + bar_width, pred_dist2, width=bar_width, label='Without Gender')\n",
    "plt.bar(index + 2*bar_width, real_dist, width=bar_width, label='Real Distribution')\n",
    "plt.xlabel('Credit Score')\n",
    "plt.ylabel('Proportion')\n",
    "plt.title('Predicted Class Distribution vs Real Distribution')\n",
    "plt.xticks(index + bar_width, class_labels)\n",
    "plt.legend()\n",
    "plt.tight_layout()\n",
    "plt.show()"
   ]
  }
 ],
 "metadata": {
  "kernelspec": {
   "display_name": "Python 3 (ipykernel)",
   "language": "python",
   "name": "python3"
  },
  "language_info": {
   "codemirror_mode": {
    "name": "ipython",
    "version": 3
   },
   "file_extension": ".py",
   "mimetype": "text/x-python",
   "name": "python",
   "nbconvert_exporter": "python",
   "pygments_lexer": "ipython3",
   "version": "3.9.5"
  }
 },
 "nbformat": 4,
 "nbformat_minor": 5
}
